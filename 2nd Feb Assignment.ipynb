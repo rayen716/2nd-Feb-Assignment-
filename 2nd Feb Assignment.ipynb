{
 "cells": [
  {
   "cell_type": "code",
   "execution_count": null,
   "id": "e41c78ed",
   "metadata": {},
   "outputs": [],
   "source": [
    "Question1- What are the characteristics of the tuples? Is tuple immutable?\n",
    "Answer 1- Tuple items are ordered, unchangeable, and allow duplicate values. Tuple items are indexed, the first item has index [0] , the second item has index [1] etc. Tuple is immutable in nature.\n"
   ]
  },
  {
   "cell_type": "code",
   "execution_count": null,
   "id": "d16b1837",
   "metadata": {},
   "outputs": [],
   "source": [
    "Question 2- What are the two tuple methods in python? Give an example of each method. Give a reason why tuples have only two in-built methods as compared to Lists?\n",
    "Answer 2 - There are only two tuple methods count() and index() that a tuple object can call. Python tuple() returns count of the element in the tuple and index() return the index of the element in the tuple. \n",
    "Tuples are faster than lists. ... \n",
    "It makes your code safer if you “write-protect” data that does not need to be changed. \n"
   ]
  },
  {
   "cell_type": "code",
   "execution_count": null,
   "id": "cdb1701a",
   "metadata": {},
   "outputs": [],
   "source": [
    "Question 3- Which collection datatypes in python do not allow duplicate items? Write a code using a set to remove duplicates from the given list?\n",
    "Answer 3 - Sets are a collection that is unordered and unindexed. They are mutable but do not allow duplicate values to be held. \n",
    "list = [1, 1, 1, 2, 1, 3, 1, 4, 2, 1, 2, 2, 2, 3, 2, 4, 3, 1, 3, 2, 3, 3, 3, 4, 4, 1, 4, 2, 4, 3, 4, 4]\n",
    "print (\"The list is: \" + str(list)) \n",
    "result = [] \n",
    "for i in list: \n",
    "    if i not in result: \n",
    "        result.append(i) \n",
    "print (\"The list after removing duplicates : \" + str(result)) \n"
   ]
  },
  {
   "cell_type": "code",
   "execution_count": null,
   "id": "ed2ce320",
   "metadata": {},
   "outputs": [],
   "source": [
    "Question 4- Explain the difference between the union() and update() methods for a set. Give an example of each method?\n",
    "Answer4 - update() adds all missing elements to the set on which it is called whereas set.union() creates a new set. \n",
    "s = {1, 2, 3, 4}\n",
    "t = {3, 4, 5}\n",
    "s.update(t)\n",
    "s\n",
    "{1, 2, 3, 4, 5}\n",
    "\n",
    "s = {1, 2}\n",
    "s.union({1, 2, 3})\n",
    "s\n",
    "{1, 2, 3}\n"
   ]
  },
  {
   "cell_type": "code",
   "execution_count": null,
   "id": "8aac45c4",
   "metadata": {},
   "outputs": [],
   "source": [
    "Question 5- What is a dictionary? Give an example. Also, state whether a dictionary is ordered or unordered?\n",
    "Answer 5- The dictionary is an unordered collection that contains key:value pairs separated by commas inside curly brackets. Dictionaries are optimized to retrieve values when the key is known. The following declares a dictionary object.\n",
    "numNames = {1:\"One\", 2:\"Two\", 3:\"Three\", 2:\"Two\", 1:\"One\"}\n",
    "type(numNames)\n",
    "the dictionaries are unordered, meaning that any time you loop through a dictionary, you will go through every key, but you are not guaranteed to get them in any particular order.\n"
   ]
  },
  {
   "cell_type": "code",
   "execution_count": null,
   "id": "1a3b3fea",
   "metadata": {},
   "outputs": [],
   "source": [
    "Question 6- Can we create a nested dictionary? If so, please give an example by creating a simple one-level nested dictionary?\n",
    "Answer 6- Yes, we can create a nested dictionary. \n",
    "nested_dict = { 'dict1': {'key_A': 'value_A'},'dict2': {'key_B': 'value_B'}}\n",
    "Dict = {1: 'salman', 2: 'sameer', 3: {'A' : 'Welcome', 'B' : 'To', 'C' : 'datascience'}}\n",
    "print(nested_dict)\n",
    "print(Dict)\n"
   ]
  },
  {
   "cell_type": "code",
   "execution_count": null,
   "id": "517297f8",
   "metadata": {},
   "outputs": [],
   "source": [
    "Question 7- Using setdefault() method, create key named topics in the given dictionary and also add the value of the key as this list ['Python', 'Machine Learning’, 'Deep Learning']?\n",
    "Answer 7- dict1 = {'language' : 'Python', 'course': 'Data Science Masters'}\n",
    "dict1.setdefault(' ')\n",
    "print(dict1)\n"
   ]
  },
  {
   "cell_type": "code",
   "execution_count": null,
   "id": "a002b0ce",
   "metadata": {},
   "outputs": [],
   "source": [
    "Question 8- What are the three view objects in dictionaries? Use the three in-built methods in python to display these three view objects for the given dictionary.\n",
    "dict1 = {'Sport': 'Cricket' , 'Teams': ['India', 'Australia', 'England', 'South Africa', 'Sri Lanka', 'New Zealand']}?\n",
    "Answer 8- The main view objects of a dictionary in python are keys, values and items.\n",
    "dict1 = {'Sport': 'Cricket' , 'Teams': ['India', 'Australia', 'England', 'South Africa', 'Sri Lanka', 'New Zealand']}\n",
    "print(dict1.keys())\n",
    " \n",
    "\n",
    "dict1 = {'Sport': 'Cricket' , 'Teams': ['India', 'Australia', 'England', 'South Africa', 'Sri Lanka', 'New Zealand']}\n",
    "print(dict1.items())\n",
    "\n",
    "dict1 = {'Sport': 'Cricket' , 'Teams': ['India', 'Australia', 'England', 'South Africa', 'Sri Lanka', 'New Zealand']}\n",
    "print(dict1.values())\n",
    "\n"
   ]
  }
 ],
 "metadata": {
  "kernelspec": {
   "display_name": "Python 3 (ipykernel)",
   "language": "python",
   "name": "python3"
  },
  "language_info": {
   "codemirror_mode": {
    "name": "ipython",
    "version": 3
   },
   "file_extension": ".py",
   "mimetype": "text/x-python",
   "name": "python",
   "nbconvert_exporter": "python",
   "pygments_lexer": "ipython3",
   "version": "3.9.13"
  }
 },
 "nbformat": 4,
 "nbformat_minor": 5
}
